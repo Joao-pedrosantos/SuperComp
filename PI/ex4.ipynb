{
  "cells": [
    {
      "cell_type": "markdown",
      "metadata": {
        "id": "SQ2vjAmpAAqB"
      },
      "source": [
        "# Insper - Supercomputação - Prova Intermediária\n",
        "\n",
        "Questão sobre GPU / THRUST.\n",
        "\n",
        "\n",
        "**Questão 4: Normalização de Vetor com Thrust**\n",
        "\n",
        "Na análise de dados e no processamento de sinais, normalizar um vetor é uma operação comum que ajusta a escala dos elementos para que o vetor tenha uma norma unitária (ou seja, a soma dos quadrados dos elementos é igual a 1). Essa tarefa se torna computacionalmente intensiva para vetores de grande dimensão, fazendo com que a paralelização em GPU seja uma solução atrativa.\n",
        "\n",
        "**Objetivo**:\n",
        "\n",
        "Complemente o código abaixo usando a biblioteca Thrust para normalizar um vetor grande. O código inicial cria um vetor com valores aleatórios. Você deve implementar as etapas para:\n",
        "\n",
        "1. calcular a norma L2 do vetor,\n",
        "2. dividir cada elemento do vetor por essa norma e\n",
        "3. imprimir o resultado final.\n",
        "\n",
        "**Código Pré-Pronto**:\n",
        "\n",
        "Complete o código com a sua solução."
      ]
    },
    {
      "cell_type": "code",
      "execution_count": 8,
      "metadata": {
        "colab": {
          "base_uri": "https://localhost:8080/"
        },
        "id": "3e-yWwD8LITG",
        "outputId": "fee74467-a71a-4f71-ba69-50541e139cbc"
      },
      "outputs": [
        {
          "name": "stdout",
          "output_type": "stream",
          "text": [
            "Overwriting gpu.cu\n"
          ]
        }
      ],
      "source": [
        "%%writefile gpu.cu\n",
        "#include <thrust/device_vector.h>\n",
        "#include <thrust/host_vector.h>\n",
        "#include <thrust/transform.h>\n",
        "#include <thrust/reduce.h>\n",
        "#include <thrust/iterator/counting_iterator.h>\n",
        "#include <thrust/random.h>\n",
        "#include <iostream>\n",
        "#include <cmath>\n",
        "\n",
        "// Função para gerar números aleatórios\n",
        "struct prg\n",
        "{\n",
        "    float a, b;\n",
        "\n",
        "    __host__ __device__\n",
        "    prg(float _a=0.f, float _b=1.f) : a(_a), b(_b) {};\n",
        "\n",
        "    __host__ __device__\n",
        "    float operator()(const unsigned int n) const\n",
        "    {\n",
        "        thrust::default_random_engine rng;\n",
        "        thrust::uniform_real_distribution<float> dist(a, b);\n",
        "        rng.discard(n);\n",
        "\n",
        "        return dist(rng);\n",
        "    }\n",
        "};\n",
        "\n",
        "// Functor para calcular o quadrado de um número\n",
        "struct square\n",
        "{\n",
        "    __host__ __device__\n",
        "    float operator()(const float& x) const\n",
        "    {\n",
        "        return x * x;\n",
        "    }\n",
        "};\n",
        "\n",
        "// Functor para dividir um número pela norma L2\n",
        "struct divide_by_norm\n",
        "{\n",
        "    float norm;\n",
        "\n",
        "    divide_by_norm(float _norm) : norm(_norm) {}\n",
        "\n",
        "    __host__ __device__\n",
        "    float operator()(const float& x) const\n",
        "    {\n",
        "        return x / norm;\n",
        "    }\n",
        "};\n",
        "\n",
        "int main() {\n",
        "    const int N = 1000000; // Tamanho do vetor\n",
        "    thrust::counting_iterator<unsigned int> index_sequence_begin(0);\n",
        "    thrust::host_vector<float> h_vec(N);\n",
        "\n",
        "    // Preencher o vetor com números aleatórios entre 1.0 e 2.0\n",
        "    thrust::transform(index_sequence_begin,\n",
        "                      index_sequence_begin + N,\n",
        "                      h_vec.begin(),\n",
        "                      prg(1.f, 2.f));\n",
        "\n",
        "    // Imprime alguns valores do vetor criado para verificação\n",
        "    for(int i = 0; i < 20; i++) {\n",
        "        std::cout << \"Elemento original \" << i << \": \" << h_vec[i] << std::endl;\n",
        "    }\n",
        "\n",
        "    // Copia o vetor do host para o dispositivo\n",
        "    thrust::device_vector<float> d_vec = h_vec;\n",
        "\n",
        "    // Passo 1: Calcule o quadrado de cada elemento e armazene em um novo vetor\n",
        "    thrust::device_vector<float> d_squared_vec(N);\n",
        "    thrust::transform(d_vec.begin(), d_vec.end(), d_squared_vec.begin(), square());\n",
        "\n",
        "    // Passo 2: Calcule a soma dos quadrados (usando reduce)\n",
        "    float sum_of_squares = thrust::reduce(d_squared_vec.begin(), d_squared_vec.end(), 0.0f, thrust::plus<float>());\n",
        "\n",
        "    // Passo 3: Tire a raiz quadrada da soma para obter a norma L2\n",
        "    float norm = std::sqrt(sum_of_squares);\n",
        "\n",
        "    // Imprime a norma calculada\n",
        "    std::cout << \"Norma calculada: \" << norm << std::endl;\n",
        "\n",
        "    // Normalize o vetor dividindo cada elemento pela norma L2\n",
        "    thrust::transform(d_vec.begin(), d_vec.end(), d_vec.begin(), divide_by_norm(norm));\n",
        "\n",
        "    // Imprime alguns valores do vetor normalizado para verificação\n",
        "    for(int i = 0; i < 20; i++) {\n",
        "        std::cout << \"Elemento normalizado \" << i << \": \" << d_vec[i] << std::endl;\n",
        "    }\n",
        "\n",
        "    return 0;\n",
        "}\n"
      ]
    },
    {
      "cell_type": "markdown",
      "metadata": {
        "id": "ArC24yXgKpon"
      },
      "source": [
        "Compilando o código"
      ]
    },
    {
      "cell_type": "code",
      "execution_count": 9,
      "metadata": {
        "id": "8bwfjLxDLqoX"
      },
      "outputs": [],
      "source": [
        "!nvcc -arch=sm_75 -std=c++14 gpu.cu -o gpu"
      ]
    },
    {
      "cell_type": "markdown",
      "metadata": {
        "id": "xZNFIBWgKs5B"
      },
      "source": [
        "Exemplo de execução:"
      ]
    },
    {
      "cell_type": "code",
      "execution_count": 10,
      "metadata": {
        "colab": {
          "base_uri": "https://localhost:8080/"
        },
        "id": "IcrtojzSLs3e",
        "outputId": "9dfcc749-5d73-40c4-de75-1f89a2274988"
      },
      "outputs": [
        {
          "name": "stdout",
          "output_type": "stream",
          "text": [
            "Elemento original 0: 1.00002\n",
            "Elemento original 1: 1.08503\n",
            "Elemento original 2: 1.60135\n",
            "Elemento original 3: 1.89161\n",
            "Elemento original 4: 1.96796\n",
            "Elemento original 5: 1.18969\n",
            "Elemento original 6: 1.51498\n",
            "Elemento original 7: 1.39801\n",
            "Elemento original 8: 1.26291\n",
            "Elemento original 9: 1.74351\n",
            "Elemento original 10: 1.08955\n",
            "Elemento original 11: 1.56039\n",
            "Elemento original 12: 1.58223\n",
            "Elemento original 13: 1.80957\n",
            "Elemento original 14: 1.59192\n",
            "Elemento original 15: 1.51171\n",
            "Elemento original 16: 1.87663\n",
            "Elemento original 17: 1.99508\n",
            "Elemento original 18: 1.72621\n",
            "Elemento original 19: 1.96661\n",
            "Norma calculada: 1527.27\n",
            "Elemento normalizado 0: 0.000654778\n",
            "Elemento normalizado 1: 0.000710439\n",
            "Elemento normalizado 2: 0.00104851\n",
            "Elemento normalizado 3: 0.00123856\n",
            "Elemento normalizado 4: 0.00128854\n",
            "Elemento normalizado 5: 0.000778965\n",
            "Elemento normalizado 6: 0.00099195\n",
            "Elemento normalizado 7: 0.000915364\n",
            "Elemento normalizado 8: 0.000826904\n",
            "Elemento normalizado 9: 0.00114159\n",
            "Elemento normalizado 10: 0.000713396\n",
            "Elemento normalizado 11: 0.00102169\n",
            "Elemento normalizado 12: 0.00103599\n",
            "Elemento normalizado 13: 0.00118484\n",
            "Elemento normalizado 14: 0.00104233\n",
            "Elemento normalizado 15: 0.000989813\n",
            "Elemento normalizado 16: 0.00122875\n",
            "Elemento normalizado 17: 0.00130631\n",
            "Elemento normalizado 18: 0.00113026\n",
            "Elemento normalizado 19: 0.00128766\n",
            "CPU times: user 12.6 ms, sys: 0 ns, total: 12.6 ms\n",
            "Wall time: 706 ms\n"
          ]
        }
      ],
      "source": [
        "%%time\n",
        "!./gpu"
      ]
    }
  ],
  "metadata": {
    "accelerator": "GPU",
    "colab": {
      "provenance": []
    },
    "kernelspec": {
      "display_name": "Python 3",
      "name": "python3"
    },
    "language_info": {
      "name": "python"
    }
  },
  "nbformat": 4,
  "nbformat_minor": 0
}
