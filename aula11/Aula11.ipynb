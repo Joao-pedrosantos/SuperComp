{
  "nbformat": 4,
  "nbformat_minor": 0,
  "metadata": {
    "colab": {
      "provenance": [],
      "gpuType": "T4"
    },
    "kernelspec": {
      "name": "python3",
      "display_name": "Python 3"
    },
    "language_info": {
      "name": "python"
    },
    "accelerator": "GPU"
  },
  "cells": [
    {
      "cell_type": "code",
      "source": [
        "%%writefile aula11.cu\n",
        "#include <thrust/device_vector.h>\n",
        "#include <thrust/transform.h>\n",
        "#include <thrust/count.h>\n",
        "#include <thrust/iterator/constant_iterator.h>\n",
        "#include <thrust/reduce.h>\n",
        "#include <thrust/replace.h>\n",
        "#include <thrust/functional.h>\n",
        "#include <iostream>\n",
        "#include <fstream>\n",
        "#include <vector>\n",
        "#include <sstream>\n",
        "\n",
        "// Functor to compute the difference\n",
        "struct difference {\n",
        "    __host__ __device__\n",
        "    float operator()(const float &x, const float &y) const {\n",
        "        return x - y;\n",
        "    }\n",
        "};\n",
        "\n",
        "// Functor to check for positive increases\n",
        "struct is_positive {\n",
        "    __host__ __device__\n",
        "    bool operator()(const float &x) const {\n",
        "        return x > 0;\n",
        "    }\n",
        "};\n",
        "\n",
        "// Functor to calculate squared differences for variance\n",
        "struct square_difference {\n",
        "    const float mean;\n",
        "    square_difference(float mean) : mean(mean) {}\n",
        "\n",
        "    __host__ __device__\n",
        "    float operator()(const float &x) const {\n",
        "        return (x - mean) * (x - mean);\n",
        "    }\n",
        "};\n",
        "\n",
        "// Functor to check for non-positive values (used in thrust::replace_if)\n",
        "struct is_non_positive {\n",
        "    __host__ __device__\n",
        "    bool operator()(const float &x) const {\n",
        "        return x <= 0;\n",
        "    }\n",
        "};\n",
        "\n",
        "// Function to read stock prices from a file\n",
        "std::vector<float> read_prices_from_file(const std::string& filename) {\n",
        "    std::vector<float> prices;\n",
        "    std::ifstream file(filename);\n",
        "    std::string line;\n",
        "\n",
        "    while (std::getline(file, line)) {\n",
        "        std::stringstream ss(line);\n",
        "        float price;\n",
        "        if (ss >> price) {\n",
        "            prices.push_back(price);\n",
        "        }\n",
        "    }\n",
        "\n",
        "    return prices;\n",
        "}\n",
        "\n",
        "int main() {\n",
        "    // Read prices from file\n",
        "    std::vector<float> host_prices = read_prices_from_file(\"stocks-google.txt\");\n",
        "\n",
        "    // Copy data to device vector\n",
        "    thrust::device_vector<float> prices(host_prices.begin(), host_prices.end());\n",
        "    thrust::device_vector<float> diffs(prices.size() - 1);\n",
        "\n",
        "    // Compute differences between consecutive prices\n",
        "    thrust::transform(prices.begin() + 1, prices.end(), prices.begin(), diffs.begin(), difference());\n",
        "\n",
        "    // Calculate mean of differences\n",
        "    float sum_diffs = thrust::reduce(diffs.begin(), diffs.end(), 0.0f, thrust::plus<float>());\n",
        "    float mean_diffs = sum_diffs / diffs.size();\n",
        "\n",
        "    // Calculate variance of differences\n",
        "    thrust::device_vector<float> squared_diffs(diffs.size());\n",
        "    thrust::transform(diffs.begin(), diffs.end(), squared_diffs.begin(), square_difference(mean_diffs));\n",
        "    float variance = thrust::reduce(squared_diffs.begin(), squared_diffs.end(), 0.0f, thrust::plus<float>()) / diffs.size();\n",
        "\n",
        "    // Count positive differences (price increases)\n",
        "    int count_increases = thrust::count_if(diffs.begin(), diffs.end(), is_positive());\n",
        "\n",
        "    // Replace non-positive differences with zero using the custom functor\n",
        "    thrust::replace_if(diffs.begin(), diffs.end(), is_non_positive(), 0.0f);\n",
        "\n",
        "    // Calculate sum of positive differences\n",
        "    float total_increase = thrust::reduce(diffs.begin(), diffs.end(), 0.0f, thrust::plus<float>());\n",
        "    float average_increase = (count_increases > 0) ? total_increase / count_increases : 0.0f;\n",
        "\n",
        "    // Output results\n",
        "    std::cout << \"Já vimos que, para valer a pena usar a GPU, precisamos tratar grandes volumes de dados ou realizar cálculos complexos.\" << std::endl;\n",
        "    std::cout << \"Número de aumentos no preço das ações: \" << count_increases << std::endl;\n",
        "    std::cout << \"Aumento médio nos dias em que o preço subiu: \" << average_increase << std::endl;\n",
        "    std::cout << \"Variância das diferenças diárias: \" << variance << std::endl;\n",
        "\n",
        "    return 0;\n",
        "}\n"
      ],
      "metadata": {
        "colab": {
          "base_uri": "https://localhost:8080/"
        },
        "id": "Hk6VnRx6PjLp",
        "outputId": "feddc602-416d-4215-9fed-1ee0ca5dc3e8"
      },
      "execution_count": 13,
      "outputs": [
        {
          "output_type": "stream",
          "name": "stdout",
          "text": [
            "Overwriting aula11.cu\n"
          ]
        }
      ]
    },
    {
      "cell_type": "code",
      "execution_count": 14,
      "metadata": {
        "id": "Zs-7VPrtJbNq"
      },
      "outputs": [],
      "source": [
        "!nvcc -arch=sm_70 -std=c++14 aula11.cu -o stocks"
      ]
    },
    {
      "cell_type": "code",
      "source": [
        "!./stocks < stocks-google.txt"
      ],
      "metadata": {
        "colab": {
          "base_uri": "https://localhost:8080/"
        },
        "id": "U-RB7BqRMBzm",
        "outputId": "4bbd0207-5520-4cec-b679-cd0729aec8d5"
      },
      "execution_count": 15,
      "outputs": [
        {
          "output_type": "stream",
          "name": "stdout",
          "text": [
            "Já vimos que, para valer a pena usar a GPU, precisamos tratar grandes volumes de dados ou realizar cálculos complexos.\n",
            "Número de aumentos no preço das ações: 3056\n",
            "Aumento médio nos dias em que o preço subiu: 3.15251\n",
            "Variância das diferenças diárias: 3168.44\n"
          ]
        }
      ]
    },
    {
      "cell_type": "code",
      "source": [],
      "metadata": {
        "id": "mOT3vT3zMLAZ"
      },
      "execution_count": null,
      "outputs": []
    }
  ]
}